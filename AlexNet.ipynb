{
  "nbformat": 4,
  "nbformat_minor": 0,
  "metadata": {
    "colab": {
      "provenance": []
    },
    "kernelspec": {
      "name": "python3",
      "display_name": "Python 3"
    },
    "language_info": {
      "name": "python"
    }
  },
  "cells": [
    {
      "cell_type": "code",
      "source": [
        "import torch\n",
        "import torch.nn as nn\n",
        "import torchvision\n",
        "import torchvision.transforms as transforms\n",
        "import matplotlib.pyplot as plt\n",
        "import numpy as np\n",
        "import random\n",
        "from sklearn.metrics import confusion_matrix\n",
        "from tqdm import tqdm"
      ],
      "metadata": {
        "id": "WBh-ixHlDzWO"
      },
      "execution_count": null,
      "outputs": []
    },
    {
      "cell_type": "code",
      "source": [
        "# =============================\n",
        "# 1. Persiapan Dataset CIFAR-10\n",
        "# =============================\n",
        "\n",
        "transform = transforms.Compose([\n",
        "    transforms.ToTensor(),  # Ubah ke tensor [0, 1]\n",
        "    transforms.Normalize((0.5, 0.5, 0.5), (0.5, 0.5, 0.5)),  # Normalisasi\n",
        "])\n",
        "\n",
        "trainset = torchvision.datasets.CIFAR10(root='./data', train=True,\n",
        "                                        download=True, transform=transform)\n",
        "trainloader = torch.utils.data.DataLoader(trainset, batch_size=64,\n",
        "                                          shuffle=True)\n",
        "\n",
        "testset = torchvision.datasets.CIFAR10(root='./data', train=False,\n",
        "                                       download=True, transform=transform)\n",
        "testloader = torch.utils.data.DataLoader(testset, batch_size=100,\n",
        "                                         shuffle=False)\n",
        "\n",
        "classes = ['airplane', 'automobile', 'bird', 'cat', 'deer',\n",
        "           'dog', 'frog', 'horse', 'ship', 'truck']"
      ],
      "metadata": {
        "id": "NPJr9B6tEVRW"
      },
      "execution_count": null,
      "outputs": []
    },
    {
      "cell_type": "code",
      "source": [
        "# =============================\n",
        "# 2. Arsitektur AlexNet CIFAR-10\n",
        "# =============================\n",
        "\n",
        "class AlexNetCIFAR10(nn.Module):\n",
        "    def __init__(self, num_classes=10):\n",
        "        super(AlexNetCIFAR10, self).__init__()\n",
        "        self.features = nn.Sequential(\n",
        "            nn.Conv2d(3, 64, kernel_size=3, stride=1, padding=1),  # 32x32\n",
        "            nn.ReLU(inplace=True),\n",
        "            nn.MaxPool2d(kernel_size=2, stride=2),  # 16x16\n",
        "\n",
        "            nn.Conv2d(64, 192, kernel_size=3, padding=1),\n",
        "            nn.ReLU(inplace=True),\n",
        "            nn.MaxPool2d(kernel_size=2, stride=2),  # 8x8\n",
        "\n",
        "            nn.Conv2d(192, 384, kernel_size=3, padding=1),\n",
        "            nn.ReLU(inplace=True),\n",
        "\n",
        "            nn.Conv2d(384, 256, kernel_size=3, padding=1),\n",
        "            nn.ReLU(inplace=True),\n",
        "\n",
        "            nn.Conv2d(256, 256, kernel_size=3, padding=1),\n",
        "            nn.ReLU(inplace=True),\n",
        "            nn.MaxPool2d(kernel_size=2, stride=2),  # 4x4\n",
        "        )\n",
        "        self.classifier = nn.Sequential(\n",
        "            nn.Dropout(),\n",
        "            nn.Linear(256 * 4 * 4, 4096),\n",
        "            nn.ReLU(inplace=True),\n",
        "            nn.Dropout(),\n",
        "            nn.Linear(4096, 4096),\n",
        "            nn.ReLU(inplace=True),\n",
        "            nn.Linear(4096, num_classes),\n",
        "        )\n",
        "\n",
        "    def forward(self, x):\n",
        "        x = self.features(x)\n",
        "        x = x.view(x.size(0), 256 * 4 * 4)\n",
        "        x = self.classifier(x)\n",
        "        return x"
      ],
      "metadata": {
        "id": "RIiB9cTXEfE0"
      },
      "execution_count": null,
      "outputs": []
    },
    {
      "cell_type": "code",
      "source": [
        "# =============================\n",
        "# 3. Pelatihan Model (dengan Visualisasi)\n",
        "# =============================\n",
        "\n",
        "device = torch.device(\"cuda\" if torch.cuda.is_available() else \"cpu\")\n",
        "model = AlexNetCIFAR10().to(device)\n",
        "\n",
        "criterion = nn.CrossEntropyLoss()\n",
        "optimizer = torch.optim.Adam(model.parameters(), lr=0.001)\n",
        "\n",
        "num_epochs = 10\n",
        "train_losses = []  # Simpan loss tiap epoch\n",
        "\n",
        "print(\"Mulai training...\\n\")\n",
        "for epoch in range(num_epochs):\n",
        "    model.train()\n",
        "    running_loss = 0.0\n",
        "    progress_bar = tqdm(trainloader, desc=f\"Epoch {epoch+1}/{num_epochs}\", leave=False)\n",
        "\n",
        "    for inputs, labels in progress_bar:\n",
        "        inputs, labels = inputs.to(device), labels.to(device)\n",
        "\n",
        "        optimizer.zero_grad()\n",
        "        outputs = model(inputs)\n",
        "        loss = criterion(outputs, labels)\n",
        "        loss.backward()\n",
        "        optimizer.step()\n",
        "\n",
        "        running_loss += loss.item()\n",
        "        progress_bar.set_postfix({'batch_loss': loss.item()})\n",
        "\n",
        "    avg_loss = running_loss / len(trainloader)\n",
        "    train_losses.append(avg_loss)\n",
        "    print(f\"Epoch {epoch+1}/{num_epochs}, Loss: {avg_loss:.4f}\")"
      ],
      "metadata": {
        "colab": {
          "base_uri": "https://localhost:8080/"
        },
        "id": "MOZZqAnuEk6c",
        "outputId": "a3418376-f8b8-4db3-e215-cae78f292997"
      },
      "execution_count": null,
      "outputs": [
        {
          "output_type": "stream",
          "name": "stdout",
          "text": [
            "Mulai training...\n",
            "\n"
          ]
        },
        {
          "output_type": "stream",
          "name": "stderr",
          "text": []
        },
        {
          "output_type": "stream",
          "name": "stdout",
          "text": [
            "Epoch 1/10, Loss: 1.6804\n"
          ]
        },
        {
          "output_type": "stream",
          "name": "stderr",
          "text": []
        },
        {
          "output_type": "stream",
          "name": "stdout",
          "text": [
            "Epoch 2/10, Loss: 1.2915\n"
          ]
        },
        {
          "output_type": "stream",
          "name": "stderr",
          "text": []
        },
        {
          "output_type": "stream",
          "name": "stdout",
          "text": [
            "Epoch 3/10, Loss: 1.1144\n"
          ]
        },
        {
          "output_type": "stream",
          "name": "stderr",
          "text": []
        },
        {
          "output_type": "stream",
          "name": "stdout",
          "text": [
            "Epoch 4/10, Loss: 0.9995\n"
          ]
        },
        {
          "output_type": "stream",
          "name": "stderr",
          "text": []
        },
        {
          "output_type": "stream",
          "name": "stdout",
          "text": [
            "Epoch 5/10, Loss: 0.9087\n"
          ]
        },
        {
          "output_type": "stream",
          "name": "stderr",
          "text": []
        },
        {
          "output_type": "stream",
          "name": "stdout",
          "text": [
            "Epoch 6/10, Loss: 0.8320\n"
          ]
        },
        {
          "output_type": "stream",
          "name": "stderr",
          "text": []
        },
        {
          "output_type": "stream",
          "name": "stdout",
          "text": [
            "Epoch 7/10, Loss: 0.7780\n"
          ]
        },
        {
          "output_type": "stream",
          "name": "stderr",
          "text": []
        },
        {
          "output_type": "stream",
          "name": "stdout",
          "text": [
            "Epoch 8/10, Loss: 0.7183\n"
          ]
        },
        {
          "output_type": "stream",
          "name": "stderr",
          "text": []
        },
        {
          "output_type": "stream",
          "name": "stdout",
          "text": [
            "Epoch 9/10, Loss: 0.6698\n"
          ]
        },
        {
          "output_type": "stream",
          "name": "stderr",
          "text": [
            "                                                                                "
          ]
        },
        {
          "output_type": "stream",
          "name": "stdout",
          "text": [
            "Epoch 10/10, Loss: 0.6340\n"
          ]
        },
        {
          "output_type": "stream",
          "name": "stderr",
          "text": [
            "\r"
          ]
        }
      ]
    },
    {
      "cell_type": "code",
      "source": [
        "# =============================\n",
        "# 4. Visualisasi Loss per Epoch\n",
        "# =============================\n",
        "\n",
        "plt.figure(figsize=(8, 5))\n",
        "plt.plot(range(1, num_epochs + 1), train_losses, marker='o', linestyle='-', color='blue')\n",
        "plt.title(\"Train Loss per Epoch\")\n",
        "plt.xlabel(\"Epoch\")\n",
        "plt.ylabel(\"Loss\")\n",
        "plt.grid(True)\n",
        "plt.tight_layout()\n",
        "plt.show()"
      ],
      "metadata": {
        "colab": {
          "base_uri": "https://localhost:8080/",
          "height": 507
        },
        "id": "sl4PJt7EGPO-",
        "outputId": "9fa8e310-02fc-4004-c851-7359c6e3a5ce"
      },
      "execution_count": null,
      "outputs": [
        {
          "output_type": "display_data",
          "data": {
            "text/plain": [
              "<Figure size 800x500 with 1 Axes>"
            ],
            "image/png": "[encoded data removed]"
          },
          "metadata": {}
        }
      ]
    },
    {
      "cell_type": "code",
      "source": [
        "# =============================\n",
        "# 5. Evaluasi Akurasi Test Set\n",
        "# =============================\n",
        "\n",
        "model.eval()\n",
        "correct = 0\n",
        "total = 0\n",
        "with torch.no_grad():\n",
        "    for inputs, labels in testloader:\n",
        "        inputs, labels = inputs.to(device), labels.to(device)\n",
        "        outputs = model(inputs)\n",
        "        _, predicted = torch.max(outputs, 1)\n",
        "        total += labels.size(0)\n",
        "        correct += (predicted == labels).sum().item()\n",
        "\n",
        "print(f'\\nTest Accuracy: {100 * correct / total:.2f}%')"
      ],
      "metadata": {
        "colab": {
          "base_uri": "https://localhost:8080/"
        },
        "id": "k5H5pA2lEotP",
        "outputId": "a18cf3e1-d543-4ec1-d639-00f96ba3c884"
      },
      "execution_count": null,
      "outputs": [
        {
          "output_type": "stream",
          "name": "stdout",
          "text": [
            "\n",
            "Test Accuracy: 73.71%\n"
          ]
        }
      ]
    },
    {
      "cell_type": "code",
      "source": [
        "# =============================\n",
        "# 6. Akurasi per kelas (Per-Class Accuracy)\n",
        "# =============================\n",
        "\n",
        "class_correct = [0] * 10\n",
        "class_total = [0] * 10\n",
        "\n",
        "model.eval()\n",
        "with torch.no_grad():\n",
        "    for images, labels in testloader:\n",
        "        images, labels = images.to(device), labels.to(device)\n",
        "        outputs = model(images)\n",
        "        _, predicted = torch.max(outputs, 1)\n",
        "        c = (predicted == labels).squeeze()\n",
        "\n",
        "        for i in range(len(labels)):\n",
        "            label = labels[i]\n",
        "            class_correct[label] += c[i].item()\n",
        "            class_total[label] += 1\n",
        "\n",
        "# Tampilkan hasil\n",
        "print(\"\\nAkurasi per kelas:\")\n",
        "for i in range(10):\n",
        "    accuracy = 100 * class_correct[i] / class_total[i]\n",
        "    print(f\"{classes[i]:<10s} : {accuracy:.2f}%\")"
      ],
      "metadata": {
        "colab": {
          "base_uri": "https://localhost:8080/"
        },
        "id": "E6vbZHFmFoav",
        "outputId": "c42b6179-2e05-4f96-8995-3fb74b79127c"
      },
      "execution_count": null,
      "outputs": [
        {
          "output_type": "stream",
          "name": "stdout",
          "text": [
            "\n",
            "Akurasi per kelas:\n",
            "airplane   : 78.70%\n",
            "automobile : 82.50%\n",
            "bird       : 68.40%\n",
            "cat        : 56.90%\n",
            "deer       : 66.00%\n",
            "dog        : 66.30%\n",
            "frog       : 72.20%\n",
            "horse      : 78.80%\n",
            "ship       : 84.30%\n",
            "truck      : 83.00%\n"
          ]
        }
      ]
    },
    {
      "cell_type": "code",
      "source": [
        "# Ambil semua prediksi dan label dari test set\n",
        "all_preds = []\n",
        "all_labels = []\n",
        "\n",
        "model.eval()\n",
        "with torch.no_grad():\n",
        "    for inputs, labels in testloader:\n",
        "        inputs, labels = inputs.to(device), labels.to(device)\n",
        "        outputs = model(inputs)\n",
        "        _, predicted = torch.max(outputs, 1)\n",
        "\n",
        "        all_preds.extend(predicted.cpu().numpy())\n",
        "        all_labels.extend(labels.cpu().numpy())\n",
        "\n",
        "all_preds = np.array(all_preds)\n",
        "all_labels = np.array(all_labels)\n",
        "\n",
        "# Hitung confusion matrix\n",
        "cm = confusion_matrix(all_labels, all_preds, labels=list(range(10)))  # 10 = jumlah kelas CIFAR-10\n",
        "\n",
        "# Inisialisasi TP, FP, FN, TN\n",
        "TP = np.zeros(10)\n",
        "FP = np.zeros(10)\n",
        "FN = np.zeros(10)\n",
        "TN = np.zeros(10)\n",
        "\n",
        "for i in range(10):\n",
        "    TP[i] = cm[i, i]\n",
        "    FP[i] = cm[:, i].sum() - TP[i]\n",
        "    FN[i] = cm[i, :].sum() - TP[i]\n",
        "    TN[i] = cm.sum() - (TP[i] + FP[i] + FN[i])\n",
        "\n",
        "# Tampilkan hasil per kelas\n",
        "print(\"\\n TP, FP, FN, TN per kelas:\")\n",
        "for i in range(10):\n",
        "    print(f\"{classes[i]:<10s} | TP: {int(TP[i])}  FP: {int(FP[i])}  FN: {int(FN[i])}  TN: {int(TN[i])}\")"
      ],
      "metadata": {
        "colab": {
          "base_uri": "https://localhost:8080/"
        },
        "id": "SeQoAJ-N12Vg",
        "outputId": "221e8c72-d14a-4d98-8501-d5ccbfd90860"
      },
      "execution_count": null,
      "outputs": [
        {
          "output_type": "stream",
          "name": "stdout",
          "text": [
            "\n",
            " TP, FP, FN, TN per kelas:\n",
            "airplane   | TP: 787  FP: 300  FN: 213  TN: 8700\n",
            "automobile | TP: 825  FP: 87  FN: 175  TN: 8913\n",
            "bird       | TP: 684  FP: 478  FN: 316  TN: 8522\n",
            "cat        | TP: 569  FP: 517  FN: 431  TN: 8483\n",
            "deer       | TP: 660  FP: 256  FN: 340  TN: 8744\n",
            "dog        | TP: 663  FP: 374  FN: 337  TN: 8626\n",
            "frog       | TP: 722  FP: 116  FN: 278  TN: 8884\n",
            "horse      | TP: 788  FP: 216  FN: 212  TN: 8784\n",
            "ship       | TP: 843  FP: 157  FN: 157  TN: 8843\n",
            "truck      | TP: 830  FP: 128  FN: 170  TN: 8872\n"
          ]
        }
      ]
    },
    {
      "cell_type": "code",
      "source": [
        "# =============================\n",
        "# 7. Inference (Prediksi 1 Gambar)\n",
        "# =============================\n",
        "\n",
        "# Fungsi untuk denormalisasi dan menampilkan banyak gambar\n",
        "def imshow_batch(images, labels_true, labels_pred, classes, count=5):\n",
        "    images = images[:count]\n",
        "    labels_true = labels_true[:count]\n",
        "    labels_pred = labels_pred[:count]\n",
        "\n",
        "    images = images / 2 + 0.5  # Denormalisasi\n",
        "\n",
        "    fig, axes = plt.subplots(1, count, figsize=(15, 4))\n",
        "    for i in range(count):\n",
        "        img = images[i].numpy()\n",
        "        img = np.transpose(img, (1, 2, 0))\n",
        "        axes[i].imshow(img)\n",
        "        axes[i].axis('off')\n",
        "        axes[i].set_title(f\"T: {classes[labels_true[i]]}\\nP: {classes[labels_pred[i]]}\")\n",
        "    plt.tight_layout()\n",
        "    plt.show()\n",
        "\n",
        "# Ambil batch gambar dari testloader\n",
        "dataiter = iter(testloader)\n",
        "images, labels = next(dataiter)\n",
        "\n",
        "images = images.to(device)\n",
        "labels = labels.to(device)\n",
        "\n",
        "# Inference model\n",
        "model.eval()\n",
        "with torch.no_grad():\n",
        "    outputs = model(images)\n",
        "    _, predictions = torch.max(outputs, 1)\n",
        "\n",
        "# Tampilkan hasil prediksi 5 gambar pertama\n",
        "imshow_batch(images.cpu(), labels.cpu(), predictions.cpu(), classes, count=5)"
      ],
      "metadata": {
        "colab": {
          "base_uri": "https://localhost:8080/",
          "height": 285
        },
        "id": "CTiiBqDL1Htx",
        "outputId": "00796b0f-1e45-4a52-e247-994cebeea01b"
      },
      "execution_count": null,
      "outputs": [
        {
          "output_type": "display_data",
          "data": {
            "text/plain": [
              "<Figure size 1500x400 with 5 Axes>"
            ],
            "image/png": "[encoded data removed]"
          },
          "metadata": {}
        }
      ]
    }
  ]
}